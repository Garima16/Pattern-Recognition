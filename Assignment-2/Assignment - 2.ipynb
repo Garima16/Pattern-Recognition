{
 "cells": [
  {
   "cell_type": "code",
   "execution_count": 1,
   "metadata": {},
   "outputs": [],
   "source": [
    "import numpy as np\n",
    "from sklearn.preprocessing import StandardScaler\n",
    "import matplotlib.pyplot as plt\n",
    "\n",
    "\n",
    "\n",
    "\n",
    "def sorted_values(eigen_values, eigen_vectors):\n",
    "    eig_pairs = [(np.abs(eigen_values[i]), eigen_vectors[:,i]) for i in range(len(eigen_values))]\n",
    "#     print(eig_pairs)\n",
    "    eig_pairs.sort(reverse = True, key=lambda k: k[0])\n",
    "    return [x[0] for x in eig_pairs], [y[1] for y in eig_pairs]\n",
    "\n",
    "def pca(input_array,components,pcaIndex1,pcaIndex2):\n",
    "    number_of_features = input_array.shape[1]\n",
    "    scaler = StandardScaler()\n",
    "    scaled_input = scaler.fit_transform(input_array)\n",
    "    covariance_mat = np.cov(scaled_input.T) # Mean centeres the data and finds the covarience\n",
    "    eigen_values, eigen_vectors = np.linalg.eig(covariance_mat)\n",
    "    eigen_values, eigen_vectors = sorted_values(eigen_values, eigen_vectors)\n",
    "    stacked_eigen_mat = np.hstack((eigen_vectors[pcaIndex1].reshape(number_of_features,1),eigen_vectors[pcaIndex2].reshape(number_of_features,1)))\n",
    "        \n",
    "    return scaled_input.dot(stacked_eigen_mat)\n",
    "    "
   ]
  },
  {
   "cell_type": "code",
   "execution_count": 2,
   "metadata": {},
   "outputs": [],
   "source": [
    "def within_class_scatter_matrix(data , mean_vectors, number_of_features, number_of_classes):\n",
    "    S_W = np.zeros((number_of_features,number_of_features))\n",
    "    for class_val,mean_vec in enumerate(mean_vectors): \n",
    "        scatter_matrix = np.zeros((number_of_features,number_of_features))   \n",
    "        \n",
    "        # scatter matrix for every class\n",
    "        for data_instance in data[class_val]:\n",
    "            data_instance, mean_vec = data_instance.reshape(number_of_features,1), mean_vec.reshape(number_of_features,1) # make column vectors\n",
    "            scatter_matrix += (data_instance-mean_vec).dot((data_instance-mean_vec).T)\n",
    "        S_W += scatter_matrix   \n",
    "    return S_W\n",
    "\n",
    "def between_class_scatter_matrix(data , mean_vectors, number_of_features, number_of_classes):\n",
    "    S_B = np.zeros((number_of_features,number_of_features))\n",
    "    for class_val,mean_vec in enumerate(mean_vectors):  \n",
    "        n = data[class_val].shape[0]\n",
    "        mean_vec = mean_vec.reshape(number_of_features,1)\n",
    "        overall_mean = np.mean(mean_vectors, axis=0).reshape(number_of_features,1)\n",
    "        S_B += n * (mean_vec - overall_mean).dot((mean_vec - overall_mean).T)\n",
    "        \n",
    "    return S_B\n",
    "\n",
    "\n",
    "def lda(data, components):\n",
    "    print(data.shape)\n",
    "    number_of_classes = data.shape[0]\n",
    "    number_of_features = data.shape[2]\n",
    "    mean_vectors = np.mean(data, axis=1)\n",
    "    \n",
    "    S_W = within_class_scatter_matrix(data ,mean_vectors ,number_of_features, number_of_classes)\n",
    "    S_B = between_class_scatter_matrix(data ,mean_vectors ,number_of_features, number_of_classes)\n",
    "#     print(S_W,S_B,sep=\"\\n\")\n",
    "    eigen_values, eigen_vectors = np.linalg.eig(np.linalg.inv(S_W).dot(S_B))\n",
    "#     print(eigen_values,eigen_vectors,sep=\"\\n\")\n",
    "    eigen_values, eigen_vectors = sorted_values(eigen_values, eigen_vectors)\n",
    "\n",
    "    print(np.array(eigen_values).shape)\n",
    "    \n",
    "#     print(eigen_vectors)\n",
    "    stacked_eigen_mat = eigen_vectors[0]\n",
    "    for _ in range(1,components):\n",
    "        stacked_eigen_mat = np.hstack((stacked_eigen_mat.reshape(number_of_features, 1),eigen_vectors[_].reshape(number_of_features, 1)))\n",
    "        \n",
    "#     print(stacked_eigen_mat)\n",
    "    return data.dot(stacked_eigen_mat)\n",
    "    "
   ]
  },
  {
   "cell_type": "code",
   "execution_count": 3,
   "metadata": {
    "scrolled": true
   },
   "outputs": [
    {
     "name": "stdout",
     "output_type": "stream",
     "text": [
      "(3, 50, 4)\n",
      "(4,)\n"
     ]
    },
    {
     "data": {
      "text/plain": [
       "array([[[ 1.49220928, -1.9047102 ],\n",
       "        [ 1.25765567, -1.60841445],\n",
       "        [ 1.3487506 , -1.74984635],\n",
       "        [ 1.18024885, -1.63919095],\n",
       "        [ 1.51043263, -1.96271183],\n",
       "        [ 1.40183784, -2.22012481],\n",
       "        [ 1.27966155, -1.91802239],\n",
       "        [ 1.37835575, -1.81948346],\n",
       "        [ 1.11648646, -1.54502342],\n",
       "        [ 1.3131003 , -1.56518244],\n",
       "        [ 1.57646265, -1.99977597],\n",
       "        [ 1.28272558, -1.79225834],\n",
       "        [ 1.30854321, -1.530813  ],\n",
       "        [ 1.37003298, -1.60260779],\n",
       "        [ 1.9385142 , -2.25635444],\n",
       "        [ 1.76617886, -2.5681761 ],\n",
       "        [ 1.62043071, -2.32183942],\n",
       "        [ 1.42083076, -1.98141342],\n",
       "        [ 1.49597495, -2.08721643],\n",
       "        [ 1.48232553, -2.13268434],\n",
       "        [ 1.35102322, -1.77221909],\n",
       "        [ 1.37223268, -2.1504877 ],\n",
       "        [ 1.6470616 , -2.06083351],\n",
       "        [ 1.03670041, -1.94073418],\n",
       "        [ 1.11878093, -1.71597237],\n",
       "        [ 1.16885021, -1.55845538],\n",
       "        [ 1.1809505 , -1.94746124],\n",
       "        [ 1.45805203, -1.88017978],\n",
       "        [ 1.47398592, -1.84670858],\n",
       "        [ 1.18480594, -1.67356039],\n",
       "        [ 1.16658259, -1.61555876],\n",
       "        [ 1.31756262, -1.97648283],\n",
       "        [ 1.76171654, -2.15687571],\n",
       "        [ 1.8451735 , -2.32060214],\n",
       "        [ 1.3131003 , -1.56518244],\n",
       "        [ 1.46487174, -1.77796971],\n",
       "        [ 1.6288214 , -1.9337318 ],\n",
       "        [ 1.3131003 , -1.56518244],\n",
       "        [ 1.20984901, -1.62935194],\n",
       "        [ 1.39884673, -1.82038169],\n",
       "        [ 1.454988  , -2.00594384],\n",
       "        [ 0.88796115, -1.29465439],\n",
       "        [ 1.28727767, -1.74715165],\n",
       "        [ 1.07690779, -2.15976753],\n",
       "        [ 1.19235414, -2.10767294],\n",
       "        [ 1.16578618, -1.68421943],\n",
       "        [ 1.49905583, -2.03055247],\n",
       "        [ 1.2736114 , -1.72351946],\n",
       "        [ 1.55597167, -1.99887773],\n",
       "        [ 1.39428964, -1.78601226]],\n",
       "\n",
       "       [[-0.89453857, -1.82637009],\n",
       "        [-0.97956651, -1.94854121],\n",
       "        [-1.13441883, -1.7924179 ],\n",
       "        [-1.09641615, -1.38409523],\n",
       "        [-1.16858108, -1.68841136],\n",
       "        [-1.13510363, -1.55324771],\n",
       "        [-1.14201811, -2.03238874],\n",
       "        [-0.5839746 , -1.38549661],\n",
       "        [-0.96661874, -1.59480302],\n",
       "        [-1.01976205, -1.71913182],\n",
       "        [-0.82763738, -1.09993811],\n",
       "        [-0.9955054 , -1.90253629],\n",
       "        [-0.81854005, -1.09957689],\n",
       "        [-1.19510035, -1.64158641],\n",
       "        [-0.62504632, -1.84010722],\n",
       "        [-0.83078118, -1.84106149],\n",
       "        [-1.22092298, -1.82355562],\n",
       "        [-0.72059856, -1.36685105],\n",
       "        [-1.40769177, -1.35774617],\n",
       "        [-0.80109126, -1.37481539],\n",
       "        [-1.4601016 , -2.09787373],\n",
       "        [-0.77989864, -1.68398392],\n",
       "        [-1.48965068, -1.43362936],\n",
       "        [-1.09105765, -1.42928012],\n",
       "        [-0.84365603, -1.66929251],\n",
       "        [-0.88998649, -1.7812634 ],\n",
       "        [-1.14502607, -1.56354553],\n",
       "        [-1.41152037, -1.85969936],\n",
       "        [-1.17767341, -1.7682487 ],\n",
       "        [-0.45191456, -1.45962489],\n",
       "        [-0.80564835, -1.34044596],\n",
       "        [-0.67962161, -1.28917139],\n",
       "        [-0.75405916, -1.57111479],\n",
       "        [-1.6543699 , -1.57458028],\n",
       "        [-1.26190493, -1.82175915],\n",
       "        [-1.05548027, -2.1394512 ],\n",
       "        [-1.06610435, -1.84147874],\n",
       "        [-1.15108121, -1.28956648],\n",
       "        [-0.85957307, -1.7718638 ],\n",
       "        [-1.01898749, -1.50189494],\n",
       "        [-1.12748751, -1.38237696],\n",
       "        [-1.1017378 , -1.72591492],\n",
       "        [-0.84742171, -1.48678628],\n",
       "        [-0.60219795, -1.32749499],\n",
       "        [-1.03036429, -1.56973558],\n",
       "        [-0.8223518 , -1.67063017],\n",
       "        [-0.93244465, -1.68843353],\n",
       "        [-0.88463799, -1.66749604],\n",
       "        [-0.41171218, -1.59918212],\n",
       "        [-0.91651076, -1.65496232]],\n",
       "\n",
       "       [[-2.4948516 , -2.39214518],\n",
       "        [-1.9094874 , -1.80289346],\n",
       "        [-2.1069045 , -1.94124727],\n",
       "        [-1.93146643, -1.72133785],\n",
       "        [-2.24658065, -2.03798974],\n",
       "        [-2.38698714, -1.76773786],\n",
       "        [-1.7006885 , -1.67617513],\n",
       "        [-2.1090942 , -1.55231961],\n",
       "        [-2.11365629, -1.43847405],\n",
       "        [-2.24893804, -2.55150021],\n",
       "        [-1.64385743, -2.1803836 ],\n",
       "        [-1.89583798, -1.75742555],\n",
       "        [-1.94978455, -2.04026719],\n",
       "        [-2.02413734, -1.78632738],\n",
       "        [-2.22766566, -2.2453094 ],\n",
       "        [-1.98778039, -2.35873771],\n",
       "        [-1.79712193, -1.80746283],\n",
       "        [-2.18280825, -2.29110951],\n",
       "        [-2.82805518, -1.61015714],\n",
       "        [-1.72191482, -1.22880643],\n",
       "        [-2.10391839, -2.26151426],\n",
       "        [-1.8738371 , -1.98755737],\n",
       "        [-2.42719453, -1.54870451],\n",
       "        [-1.62635757, -1.78153872],\n",
       "        [-1.96342897, -2.16521122],\n",
       "        [-1.84949752, -1.80440691],\n",
       "        [-1.55348599, -1.864969  ],\n",
       "        [-1.55119653, -1.95644182],\n",
       "        [-2.16382534, -1.89344588],\n",
       "        [-1.67487272, -1.58405807],\n",
       "        [-2.08939963, -1.62187851],\n",
       "        [-1.83512461, -2.21578551],\n",
       "        [-2.23520385, -1.9701491 ],\n",
       "        [-1.48280412, -1.55947162],\n",
       "        [-1.8030773 , -1.23602895],\n",
       "        [-2.23601211, -2.0491858 ],\n",
       "        [-2.16616588, -2.47605644],\n",
       "        [-1.77889857, -1.86546446],\n",
       "        [-1.51703928, -1.98097225],\n",
       "        [-1.83593103, -2.12549393],\n",
       "        [-2.20034497, -2.30294981],\n",
       "        [-1.81474341, -2.35518633],\n",
       "        [-1.9094874 , -1.80289346],\n",
       "        [-2.2337058 , -2.20975872],\n",
       "        [-2.24894304, -2.47202408],\n",
       "        [-1.94908791, -2.26906135],\n",
       "        [-1.82981296, -1.71501357],\n",
       "        [-1.77593431, -2.03715523],\n",
       "        [-2.0059819 , -2.4493123 ],\n",
       "        [-1.70147491, -1.90378805]]])"
      ]
     },
     "execution_count": 3,
     "metadata": {},
     "output_type": "execute_result"
    }
   ],
   "source": [
    "iris_dataset = np.genfromtxt(\"data/iris.csv\",delimiter=\",\")\n",
    "iris_dataset = iris_dataset[:,:4]\n",
    "iris_dataset = iris_dataset.reshape(3,50,4)\n",
    "lda(iris_dataset, 2)"
   ]
  },
  {
   "cell_type": "code",
   "execution_count": 4,
   "metadata": {},
   "outputs": [],
   "source": [
    "def plot_PCA(projected_data,title):\n",
    "    projected_data = projected_data.reshape(3,50,2)\n",
    "    plt.title(title)\n",
    "    plt.scatter(x=projected_data[0,:,0], y=projected_data[0,:,1],c=\"b\",label=\"Class 1\")\n",
    "    plt.scatter(x=projected_data[1,:,0], y=projected_data[1,:,1],c=\"r\",label=\"Class 2\")    \n",
    "    plt.scatter(x=projected_data[2,:,0], y=projected_data[2,:,1],c=\"g\",label=\"Class 3\")    \n",
    "    plt.legend()\n",
    "    plt.show()"
   ]
  },
  {
   "cell_type": "code",
   "execution_count": 5,
   "metadata": {},
   "outputs": [
    {
     "data": {
      "image/png": "[encoded data removed]",
      "text/plain": [
       "<Figure size 432x288 with 1 Axes>"
      ]
     },
     "metadata": {
      "needs_background": "light"
     },
     "output_type": "display_data"
    },
    {
     "data": {
      "image/png": "[encoded data removed]",
      "text/plain": [
       "<Figure size 432x288 with 1 Axes>"
      ]
     },
     "metadata": {
      "needs_background": "light"
     },
     "output_type": "display_data"
    },
    {
     "data": {
      "image/png": "[encoded data removed]",
      "text/plain": [
       "<Figure size 432x288 with 1 Axes>"
      ]
     },
     "metadata": {
      "needs_background": "light"
     },
     "output_type": "display_data"
    }
   ],
   "source": [
    "plot_PCA(pca(iris_dataset.reshape(150,4), 2,0,1),\"PCA1 vs PCA2\")\n",
    "plot_PCA(pca(iris_dataset.reshape(150,4), 2,0,2), \"PCA1 vs PCA3\")\n",
    "plot_PCA(pca(iris_dataset.reshape(150,4), 2,1,2), \"PCA2 vs PCS3\")"
   ]
  },
  {
   "cell_type": "code",
   "execution_count": 6,
   "metadata": {},
   "outputs": [
    {
     "name": "stdout",
     "output_type": "stream",
     "text": [
      "(2, 50, 4)\n",
      "(4,)\n"
     ]
    },
    {
     "data": {
      "image/png": "[encoded data removed]",
      "text/plain": [
       "<Figure size 432x288 with 1 Axes>"
      ]
     },
     "metadata": {
      "needs_background": "light"
     },
     "output_type": "display_data"
    },
    {
     "name": "stdout",
     "output_type": "stream",
     "text": [
      "(2, 50, 4)\n",
      "(4,)\n"
     ]
    },
    {
     "data": {
      "image/png": "[encoded data removed]",
      "text/plain": [
       "<Figure size 432x288 with 1 Axes>"
      ]
     },
     "metadata": {
      "needs_background": "light"
     },
     "output_type": "display_data"
    },
    {
     "name": "stdout",
     "output_type": "stream",
     "text": [
      "(2, 50, 4)\n",
      "(4,)\n"
     ]
    },
    {
     "data": {
      "image/png": "[encoded data removed]",
      "text/plain": [
       "<Figure size 432x288 with 1 Axes>"
      ]
     },
     "metadata": {
      "needs_background": "light"
     },
     "output_type": "display_data"
    }
   ],
   "source": [
    "def plot_LDA(projected_data,title):\n",
    "    plt.title(title)\n",
    "    y_axis = np.zeros((50,1))\n",
    "    plt.scatter(x=projected_data[0], y= y_axis, c =\"b\",label=\"Class 1\")\n",
    "    plt.scatter(x=projected_data[1], y= y_axis, c=\"r\",label=\"Class 2\")    \n",
    "#     plt.scatter(x=projected_data[2], y= y_axis, c=\"g\",label=\"Class 3\")    \n",
    "    plt.legend()\n",
    "    plt.show()\n",
    "\n",
    "plot_LDA(lda(iris_dataset[:2, :,:], 1),\"LDA of Classes 1 and 2\")\n",
    "plot_LDA(lda(iris_dataset[1:,:,:], 1),\"LDA of Classes 2 and 3\")\n",
    "plot_LDA(lda(np.vstack((iris_dataset[0, :,:],iris_dataset[2, :,:])).reshape(2,50,4),1),\"LDA of Classes 1 and 3\")\n",
    "\n",
    "\n",
    "\n"
   ]
  },
  {
   "cell_type": "markdown",
   "metadata": {},
   "source": [
    "## Arcene Cancer Dataset"
   ]
  },
  {
   "cell_type": "code",
   "execution_count": 7,
   "metadata": {},
   "outputs": [],
   "source": [
    "def scree_plot(input_array):\n",
    "    number_of_features = input_array.shape[1]\n",
    "#     scaler = StandardScaler()\n",
    "#     scaled_input = scaler.fit_transform(input_array)\n",
    "    covariance_mat = np.cov(input_array.T) # Mean centeres the data and finds the covarience\n",
    "#     eigen_values, eigen_vectors = np.linalg.eig(covariance_mat)\n",
    "    eigen_values, eigen_vectors = np.linalg.eig(covariance_mat)\n",
    "    \n",
    "#     eigen_values[::-1].sort()\n",
    "    \n",
    "    eigen_values, eigen_vectors = sorted_values(eigen_values, eigen_vectors.real)\n",
    "#     print(eigen_values)\n",
    "    plt.plot(np.arange(len(eigen_values)) + 1, eigen_values, 'ro-')\n",
    "    plt.title('Scree Plot')\n",
    "    plt.xlabel('Principal Component')\n",
    "    plt.ylabel('Eigen Values')\n",
    "    plt.show()\n",
    "    return eigen_values, eigen_vectors"
   ]
  },
  {
   "cell_type": "code",
   "execution_count": 10,
   "metadata": {},
   "outputs": [
    {
     "name": "stdout",
     "output_type": "stream",
     "text": [
      "(44, 10000)\n"
     ]
    },
    {
     "data": {
      "image/png": "[encoded data removed]",
      "text/plain": [
       "<Figure size 432x288 with 1 Axes>"
      ]
     },
     "metadata": {
      "needs_background": "light"
     },
     "output_type": "display_data"
    }
   ],
   "source": [
    "numberOfFeaures=10000\n",
    "file = open('data/arcene_train.data')\n",
    "trainData = np.array([list(map(int, file.readline().strip().split(' '))) for _ in range(100)])\n",
    "# print(trainData.shape)\n",
    "file = open('data/arcene_train.labels')\n",
    "trainLables = np.array([int(file.readline().strip()) for _ in range(100)])\n",
    "# print(trainLables.shape)\n",
    "\n",
    "class1 = trainData[trainLables == 1]\n",
    "class2 = trainData[trainLables == -1]\n",
    "print(class1.shape)\n",
    "cancer_dataset = np.vstack((class1,class2))\n",
    "# print(cancer_dataset.shape)\n",
    "\n",
    "eigen_values, eigen_vectors = scree_plot(trainData)\n"
   ]
  },
  {
   "cell_type": "code",
   "execution_count": 11,
   "metadata": {},
   "outputs": [
    {
     "name": "stdout",
     "output_type": "stream",
     "text": [
      "Variance Coverage:\n",
      "\n",
      "(array([   9,   10,   11, ..., 9997, 9998, 9999]),)\n",
      "(array([  98,   99,  100, ..., 9997, 9998, 9999]),)\n"
     ]
    }
   ],
   "source": [
    "\n",
    "def print_variance_coverage(eigen_values, eigen_vectors):\n",
    "    print('Variance Coverage:\\n')\n",
    "    eigv_sum = sum(eigen_values)\n",
    "#     print(eigen_values)\n",
    "    var = np.cumsum(eigen_values)/eigv_sum *100\n",
    "    print(np.where(var >= 85))\n",
    "    print(np.where(var >= 100))\n",
    "#             print('eigenvalue {0:}: {1:.2%}'.format(i+1, (j[0]/eigv_sum).real))\n",
    "        \n",
    "print_variance_coverage(eigen_values, eigen_vectors)"
   ]
  },
  {
   "cell_type": "code",
   "execution_count": null,
   "metadata": {},
   "outputs": [],
   "source": []
  }
 ],
 "metadata": {
  "kernelspec": {
   "display_name": "Python 3",
   "language": "python",
   "name": "python3"
  },
  "language_info": {
   "codemirror_mode": {
    "name": "ipython",
    "version": 3
   },
   "file_extension": ".py",
   "mimetype": "text/x-python",
   "name": "python",
   "nbconvert_exporter": "python",
   "pygments_lexer": "ipython3",
   "version": "3.6.7"
  }
 },
 "nbformat": 4,
 "nbformat_minor": 2
}
