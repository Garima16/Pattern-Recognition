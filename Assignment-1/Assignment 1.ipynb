{
 "cells": [
  {
   "cell_type": "markdown",
   "metadata": {},
   "source": [
    "## Generating Random Samples\n",
    "\n",
    "We will now generate samples of the Gaussian Distribution with $\\mathcal{N}(\\mu,\\Sigma).$ For this we first need to generate the $\\mu$ and $\\Sigma$ matrices.\n",
    "\n"
   ]
  },
  {
   "cell_type": "code",
   "execution_count": 2,
   "metadata": {},
   "outputs": [],
   "source": [
    "import numpy as np\n",
    "import sklearn.datasets as skdataset"
   ]
  },
  {
   "cell_type": "code",
   "execution_count": 14,
   "metadata": {},
   "outputs": [],
   "source": [
    "def getMeanAndCovMatrices(dim):\n",
    "    cov_mat=skdataset.make_spd_matrix(dim)\n",
    "    mean_vec=np.random.randn(1,dim)[0]\n",
    "    return mean_vec, cov_mat\n"
   ]
  },
  {
   "cell_type": "code",
   "execution_count": 22,
   "metadata": {
    "scrolled": true
   },
   "outputs": [],
   "source": [
    "def generateRandomSamples(dim):\n",
    "    mean_vec, cov_mat = getMeanAndCovMatrices(dim)\n",
    "    return np.random.multivariate_normal(mean_vec, cov_mat).reshape(dim,1)"
   ]
  },
  {
   "cell_type": "markdown",
   "metadata": {},
   "source": [
    "Generating random samples of 5 dimension"
   ]
  },
  {
   "cell_type": "code",
   "execution_count": 25,
   "metadata": {},
   "outputs": [
    {
     "data": {
      "text/plain": [
       "array([[-1.69664011],\n",
       "       [ 0.06646034],\n",
       "       [-0.40525482],\n",
       "       [ 0.48591612],\n",
       "       [ 2.0810534 ]])"
      ]
     },
     "execution_count": 25,
     "metadata": {},
     "output_type": "execute_result"
    }
   ],
   "source": [
    "generateRandomSamples(5)"
   ]
  },
  {
   "cell_type": "markdown",
   "metadata": {},
   "source": [
    "## Procedure to claculate Discriminant Function\n",
    "\n",
    "For a given Normal Distribution $\\mathcal{N}(\\mu,\\Sigma).$ and Prior probability $P(\\omega_i)$ the discriminant function is given by the equation\n",
    "\n",
    "$g_i(x)$ = $-\\frac{1}{2}(x-\\mu)^t\\Sigma^{-1}(x-\\mu)-\\frac{d}{2}ln(2\\pi)-\\frac{1}{2}ln|\\Sigma_i|+ln(P(\\omega_i)))$"
   ]
  },
  {
   "cell_type": "code",
   "execution_count": null,
   "metadata": {},
   "outputs": [],
   "source": []
  }
 ],
 "metadata": {
  "kernelspec": {
   "display_name": "Python 3",
   "language": "python",
   "name": "python3"
  },
  "language_info": {
   "codemirror_mode": {
    "name": "ipython",
    "version": 3
   },
   "file_extension": ".py",
   "mimetype": "text/x-python",
   "name": "python",
   "nbconvert_exporter": "python",
   "pygments_lexer": "ipython3",
   "version": "3.6.5"
  }
 },
 "nbformat": 4,
 "nbformat_minor": 2
}
