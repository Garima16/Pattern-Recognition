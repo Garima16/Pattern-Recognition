{
 "cells": [
  {
   "cell_type": "markdown",
   "metadata": {},
   "source": [
    "## Assignment 3\n",
    "#### Injamuri Krutika, M.Tech C.S, 18MCMT20\n"
   ]
  },
  {
   "cell_type": "markdown",
   "metadata": {},
   "source": [
    "### Question 1:\n",
    "\n",
    "#### K Means Clustering"
   ]
  },
  {
   "cell_type": "code",
   "execution_count": 1,
   "metadata": {},
   "outputs": [],
   "source": [
    "import numpy as np\n",
    "import matplotlib.pyplot as plt"
   ]
  },
  {
   "cell_type": "code",
   "execution_count": 2,
   "metadata": {},
   "outputs": [],
   "source": [
    "def k_means_clustering(X, centroids):\n",
    "    distance_matrix = np.zeros((centroids.shape[0],X.shape[0]))\n",
    "    minimum_dist_matrix = np.zeros((centroids.shape[0],X.shape[0]))\n",
    "    prev_minimum_dist_matrix = np.ones((centroids.shape[0],X.shape[0]))\n",
    "    iterations = 0\n",
    "    while(np.array_equal(minimum_dist_matrix, prev_minimum_dist_matrix) == False):\n",
    "        iterations += 1\n",
    "        prev_minimum_dist_matrix = np.copy(minimum_dist_matrix)\n",
    "        minimum_dist_matrix = np.zeros((centroids.shape[0],X.shape[0]))\n",
    "        distance_matrix = np.zeros((centroids.shape[0],X.shape[0]))\n",
    "        for i,centroid in enumerate(centroids):\n",
    "            distance_matrix[i] = np.sqrt(np.sum((X-centroid)**2,axis=1))\n",
    "\n",
    "        for i,j in enumerate(np.argmin(distance_matrix,axis=0)):\n",
    "            minimum_dist_matrix[j][i] = 1\n",
    "        \n",
    "        for i in range(centroids.shape[0]):\n",
    "            data_points = X[np.where(minimum_dist_matrix[i] == 1)]\n",
    "            if data_points.size:\n",
    "                centroids[i] = np.mean(data_points)\n",
    "    print(\"Total Iterataions: \",iterations)\n",
    "    return centroids"
   ]
  },
  {
   "cell_type": "code",
   "execution_count": 3,
   "metadata": {},
   "outputs": [
    {
     "name": "stdout",
     "output_type": "stream",
     "text": [
      "Total Iterataions:  4\n"
     ]
    },
    {
     "data": {
      "text/plain": [
       "array([[4.43815789, 4.43815789, 4.43815789, 4.43815789],\n",
       "       [2.56018519, 2.56018519, 2.56018519, 2.56018519],\n",
       "       [3.66637931, 3.66637931, 3.66637931, 3.66637931]])"
      ]
     },
     "execution_count": 3,
     "metadata": {},
     "output_type": "execute_result"
    }
   ],
   "source": [
    "iris_dataset = np.genfromtxt(\"data/iris.csv\",delimiter=\",\")\n",
    "iris_dataset = iris_dataset[:,:4]\n",
    "centroids = iris_dataset[np.random.choice(iris_dataset.shape[0],3,replace=False)]\n",
    "k_means_clustering(iris_dataset, centroids)"
   ]
  }
 ],
 "metadata": {
  "kernelspec": {
   "display_name": "Python 3",
   "language": "python",
   "name": "python3"
  },
  "language_info": {
   "codemirror_mode": {
    "name": "ipython",
    "version": 3
   },
   "file_extension": ".py",
   "mimetype": "text/x-python",
   "name": "python",
   "nbconvert_exporter": "python",
   "pygments_lexer": "ipython3",
   "version": "3.6.5"
  }
 },
 "nbformat": 4,
 "nbformat_minor": 2
}
